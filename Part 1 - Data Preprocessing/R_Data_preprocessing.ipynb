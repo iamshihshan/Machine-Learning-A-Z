{
 "cells": [
  {
   "cell_type": "markdown",
   "metadata": {},
   "source": [
    "# Importing the Dataset"
   ]
  },
  {
   "cell_type": "code",
   "execution_count": 1,
   "metadata": {
    "collapsed": true
   },
   "outputs": [],
   "source": [
    "path = '/Users/sun/Desktop/Data_Preprocessing/'\n",
    "dataset = read.csv(file.path(path,'Data.csv'))"
   ]
  },
  {
   "cell_type": "code",
   "execution_count": 2,
   "metadata": {},
   "outputs": [
    {
     "data": {
      "text/html": [
       "<table>\n",
       "<thead><tr><th scope=col>Country</th><th scope=col>Age</th><th scope=col>Salary</th><th scope=col>Purchased</th></tr></thead>\n",
       "<tbody>\n",
       "\t<tr><td>France </td><td>44     </td><td>72000  </td><td>No     </td></tr>\n",
       "\t<tr><td>Spain  </td><td>27     </td><td>48000  </td><td>Yes    </td></tr>\n",
       "\t<tr><td>Germany</td><td>30     </td><td>54000  </td><td>No     </td></tr>\n",
       "\t<tr><td>Spain  </td><td>38     </td><td>61000  </td><td>No     </td></tr>\n",
       "\t<tr><td>Germany</td><td>40     </td><td>   NA  </td><td>Yes    </td></tr>\n",
       "\t<tr><td>France </td><td>35     </td><td>58000  </td><td>Yes    </td></tr>\n",
       "</tbody>\n",
       "</table>\n"
      ],
      "text/latex": [
       "\\begin{tabular}{r|llll}\n",
       " Country & Age & Salary & Purchased\\\\\n",
       "\\hline\n",
       "\t France  & 44      & 72000   & No     \\\\\n",
       "\t Spain   & 27      & 48000   & Yes    \\\\\n",
       "\t Germany & 30      & 54000   & No     \\\\\n",
       "\t Spain   & 38      & 61000   & No     \\\\\n",
       "\t Germany & 40      &    NA   & Yes    \\\\\n",
       "\t France  & 35      & 58000   & Yes    \\\\\n",
       "\\end{tabular}\n"
      ],
      "text/markdown": [
       "\n",
       "Country | Age | Salary | Purchased | \n",
       "|---|---|---|---|---|---|\n",
       "| France  | 44      | 72000   | No      | \n",
       "| Spain   | 27      | 48000   | Yes     | \n",
       "| Germany | 30      | 54000   | No      | \n",
       "| Spain   | 38      | 61000   | No      | \n",
       "| Germany | 40      |    NA   | Yes     | \n",
       "| France  | 35      | 58000   | Yes     | \n",
       "\n",
       "\n"
      ],
      "text/plain": [
       "  Country Age Salary Purchased\n",
       "1 France  44  72000  No       \n",
       "2 Spain   27  48000  Yes      \n",
       "3 Germany 30  54000  No       \n",
       "4 Spain   38  61000  No       \n",
       "5 Germany 40     NA  Yes      \n",
       "6 France  35  58000  Yes      "
      ]
     },
     "metadata": {},
     "output_type": "display_data"
    }
   ],
   "source": [
    "head(dataset)"
   ]
  },
  {
   "cell_type": "markdown",
   "metadata": {},
   "source": [
    "# Missing Data"
   ]
  },
  {
   "cell_type": "markdown",
   "metadata": {},
   "source": [
    "Original variable"
   ]
  },
  {
   "cell_type": "code",
   "execution_count": 3,
   "metadata": {},
   "outputs": [
    {
     "data": {
      "text/html": [
       "<ol class=list-inline>\n",
       "\t<li>44</li>\n",
       "\t<li>27</li>\n",
       "\t<li>30</li>\n",
       "\t<li>38</li>\n",
       "\t<li>40</li>\n",
       "\t<li>35</li>\n",
       "\t<li>NA</li>\n",
       "\t<li>48</li>\n",
       "\t<li>50</li>\n",
       "\t<li>37</li>\n",
       "</ol>\n"
      ],
      "text/latex": [
       "\\begin{enumerate*}\n",
       "\\item 44\n",
       "\\item 27\n",
       "\\item 30\n",
       "\\item 38\n",
       "\\item 40\n",
       "\\item 35\n",
       "\\item NA\n",
       "\\item 48\n",
       "\\item 50\n",
       "\\item 37\n",
       "\\end{enumerate*}\n"
      ],
      "text/markdown": [
       "1. 44\n",
       "2. 27\n",
       "3. 30\n",
       "4. 38\n",
       "5. 40\n",
       "6. 35\n",
       "7. NA\n",
       "8. 48\n",
       "9. 50\n",
       "10. 37\n",
       "\n",
       "\n"
      ],
      "text/plain": [
       " [1] 44 27 30 38 40 35 NA 48 50 37"
      ]
     },
     "metadata": {},
     "output_type": "display_data"
    }
   ],
   "source": [
    "dataset$Age"
   ]
  },
  {
   "cell_type": "code",
   "execution_count": 4,
   "metadata": {},
   "outputs": [
    {
     "data": {
      "text/html": [
       "<ol class=list-inline>\n",
       "\t<li>72000</li>\n",
       "\t<li>48000</li>\n",
       "\t<li>54000</li>\n",
       "\t<li>61000</li>\n",
       "\t<li>NA</li>\n",
       "\t<li>58000</li>\n",
       "\t<li>52000</li>\n",
       "\t<li>79000</li>\n",
       "\t<li>83000</li>\n",
       "\t<li>67000</li>\n",
       "</ol>\n"
      ],
      "text/latex": [
       "\\begin{enumerate*}\n",
       "\\item 72000\n",
       "\\item 48000\n",
       "\\item 54000\n",
       "\\item 61000\n",
       "\\item NA\n",
       "\\item 58000\n",
       "\\item 52000\n",
       "\\item 79000\n",
       "\\item 83000\n",
       "\\item 67000\n",
       "\\end{enumerate*}\n"
      ],
      "text/markdown": [
       "1. 72000\n",
       "2. 48000\n",
       "3. 54000\n",
       "4. 61000\n",
       "5. NA\n",
       "6. 58000\n",
       "7. 52000\n",
       "8. 79000\n",
       "9. 83000\n",
       "10. 67000\n",
       "\n",
       "\n"
      ],
      "text/plain": [
       " [1] 72000 48000 54000 61000    NA 58000 52000 79000 83000 67000"
      ]
     },
     "metadata": {},
     "output_type": "display_data"
    }
   ],
   "source": [
    "dataset$Salary"
   ]
  },
  {
   "cell_type": "markdown",
   "metadata": {},
   "source": [
    "Deal with missing value"
   ]
  },
  {
   "cell_type": "code",
   "execution_count": 5,
   "metadata": {
    "collapsed": true
   },
   "outputs": [],
   "source": [
    "dataset$Age = ifelse(is.na(dataset$Age),\n",
    "                     ave(dataset$Age, FUN = function(x) mean(x, na.rm = TRUE)),\n",
    "                     dataset$Age)\n",
    "dataset$Salary = ifelse(is.na(dataset$Salary),\n",
    "                        ave(dataset$Salary, FUN = function(x) mean(x, na.rm = TRUE)),\n",
    "                        dataset$Salary)"
   ]
  },
  {
   "cell_type": "markdown",
   "metadata": {},
   "source": [
    "Not contain missing value"
   ]
  },
  {
   "cell_type": "code",
   "execution_count": 6,
   "metadata": {},
   "outputs": [
    {
     "data": {
      "text/html": [
       "<ol class=list-inline>\n",
       "\t<li>44</li>\n",
       "\t<li>27</li>\n",
       "\t<li>30</li>\n",
       "\t<li>38</li>\n",
       "\t<li>40</li>\n",
       "\t<li>35</li>\n",
       "\t<li>38.7777777777778</li>\n",
       "\t<li>48</li>\n",
       "\t<li>50</li>\n",
       "\t<li>37</li>\n",
       "</ol>\n"
      ],
      "text/latex": [
       "\\begin{enumerate*}\n",
       "\\item 44\n",
       "\\item 27\n",
       "\\item 30\n",
       "\\item 38\n",
       "\\item 40\n",
       "\\item 35\n",
       "\\item 38.7777777777778\n",
       "\\item 48\n",
       "\\item 50\n",
       "\\item 37\n",
       "\\end{enumerate*}\n"
      ],
      "text/markdown": [
       "1. 44\n",
       "2. 27\n",
       "3. 30\n",
       "4. 38\n",
       "5. 40\n",
       "6. 35\n",
       "7. 38.7777777777778\n",
       "8. 48\n",
       "9. 50\n",
       "10. 37\n",
       "\n",
       "\n"
      ],
      "text/plain": [
       " [1] 44.00000 27.00000 30.00000 38.00000 40.00000 35.00000 38.77778 48.00000\n",
       " [9] 50.00000 37.00000"
      ]
     },
     "metadata": {},
     "output_type": "display_data"
    }
   ],
   "source": [
    "dataset$Age"
   ]
  },
  {
   "cell_type": "code",
   "execution_count": 7,
   "metadata": {
    "scrolled": true
   },
   "outputs": [
    {
     "data": {
      "text/html": [
       "<ol class=list-inline>\n",
       "\t<li>72000</li>\n",
       "\t<li>48000</li>\n",
       "\t<li>54000</li>\n",
       "\t<li>61000</li>\n",
       "\t<li>63777.7777777778</li>\n",
       "\t<li>58000</li>\n",
       "\t<li>52000</li>\n",
       "\t<li>79000</li>\n",
       "\t<li>83000</li>\n",
       "\t<li>67000</li>\n",
       "</ol>\n"
      ],
      "text/latex": [
       "\\begin{enumerate*}\n",
       "\\item 72000\n",
       "\\item 48000\n",
       "\\item 54000\n",
       "\\item 61000\n",
       "\\item 63777.7777777778\n",
       "\\item 58000\n",
       "\\item 52000\n",
       "\\item 79000\n",
       "\\item 83000\n",
       "\\item 67000\n",
       "\\end{enumerate*}\n"
      ],
      "text/markdown": [
       "1. 72000\n",
       "2. 48000\n",
       "3. 54000\n",
       "4. 61000\n",
       "5. 63777.7777777778\n",
       "6. 58000\n",
       "7. 52000\n",
       "8. 79000\n",
       "9. 83000\n",
       "10. 67000\n",
       "\n",
       "\n"
      ],
      "text/plain": [
       " [1] 72000.00 48000.00 54000.00 61000.00 63777.78 58000.00 52000.00 79000.00\n",
       " [9] 83000.00 67000.00"
      ]
     },
     "metadata": {},
     "output_type": "display_data"
    }
   ],
   "source": [
    "dataset$Salary"
   ]
  },
  {
   "cell_type": "markdown",
   "metadata": {},
   "source": [
    "# Categorical Data"
   ]
  },
  {
   "cell_type": "markdown",
   "metadata": {},
   "source": [
    "Let Categorical variable be a factor"
   ]
  },
  {
   "cell_type": "code",
   "execution_count": 8,
   "metadata": {
    "collapsed": true
   },
   "outputs": [],
   "source": [
    "dataset$Country = factor(dataset$Country,\n",
    "                         levels = c('France', 'Spain', 'Germany'),\n",
    "                         labels = c(1, 2, 3))\n",
    "dataset$Purchased = factor(dataset$Purchased,\n",
    "                           levels = c('No', 'Yes'),\n",
    "                           labels = c(0, 1))"
   ]
  },
  {
   "cell_type": "code",
   "execution_count": 9,
   "metadata": {},
   "outputs": [
    {
     "data": {
      "text/html": [
       "<ol class=list-inline>\n",
       "\t<li>1</li>\n",
       "\t<li>2</li>\n",
       "\t<li>3</li>\n",
       "\t<li>2</li>\n",
       "\t<li>3</li>\n",
       "\t<li>1</li>\n",
       "\t<li>2</li>\n",
       "\t<li>1</li>\n",
       "\t<li>3</li>\n",
       "\t<li>1</li>\n",
       "</ol>\n"
      ],
      "text/latex": [
       "\\begin{enumerate*}\n",
       "\\item 1\n",
       "\\item 2\n",
       "\\item 3\n",
       "\\item 2\n",
       "\\item 3\n",
       "\\item 1\n",
       "\\item 2\n",
       "\\item 1\n",
       "\\item 3\n",
       "\\item 1\n",
       "\\end{enumerate*}\n"
      ],
      "text/markdown": [
       "1. 1\n",
       "2. 2\n",
       "3. 3\n",
       "4. 2\n",
       "5. 3\n",
       "6. 1\n",
       "7. 2\n",
       "8. 1\n",
       "9. 3\n",
       "10. 1\n",
       "\n",
       "\n"
      ],
      "text/plain": [
       " [1] 1 2 3 2 3 1 2 1 3 1\n",
       "Levels: 1 2 3"
      ]
     },
     "metadata": {},
     "output_type": "display_data"
    }
   ],
   "source": [
    "dataset$Country"
   ]
  },
  {
   "cell_type": "code",
   "execution_count": 10,
   "metadata": {},
   "outputs": [
    {
     "data": {
      "text/html": [
       "<ol class=list-inline>\n",
       "\t<li>0</li>\n",
       "\t<li>1</li>\n",
       "\t<li>0</li>\n",
       "\t<li>0</li>\n",
       "\t<li>1</li>\n",
       "\t<li>1</li>\n",
       "\t<li>0</li>\n",
       "\t<li>1</li>\n",
       "\t<li>0</li>\n",
       "\t<li>1</li>\n",
       "</ol>\n"
      ],
      "text/latex": [
       "\\begin{enumerate*}\n",
       "\\item 0\n",
       "\\item 1\n",
       "\\item 0\n",
       "\\item 0\n",
       "\\item 1\n",
       "\\item 1\n",
       "\\item 0\n",
       "\\item 1\n",
       "\\item 0\n",
       "\\item 1\n",
       "\\end{enumerate*}\n"
      ],
      "text/markdown": [
       "1. 0\n",
       "2. 1\n",
       "3. 0\n",
       "4. 0\n",
       "5. 1\n",
       "6. 1\n",
       "7. 0\n",
       "8. 1\n",
       "9. 0\n",
       "10. 1\n",
       "\n",
       "\n"
      ],
      "text/plain": [
       " [1] 0 1 0 0 1 1 0 1 0 1\n",
       "Levels: 0 1"
      ]
     },
     "metadata": {},
     "output_type": "display_data"
    }
   ],
   "source": [
    "dataset$Purchased"
   ]
  },
  {
   "cell_type": "markdown",
   "metadata": {},
   "source": [
    "> [Note] <br>\n",
    "> 1. 在 R 中，轉成 factor 就表示可以把文字類別轉成數字類別，且 factor 之間不存在順序關係"
   ]
  },
  {
   "cell_type": "markdown",
   "metadata": {},
   "source": [
    "# Splitting the dataset into the Training set and Test set"
   ]
  },
  {
   "cell_type": "code",
   "execution_count": 11,
   "metadata": {
    "collapsed": true
   },
   "outputs": [],
   "source": [
    "library(caTools)\n",
    "set.seed(123)\n",
    "split = sample.split(dataset$Purchased, SplitRatio = 0.8)\n",
    "training_set = subset(dataset, split == TRUE)\n",
    "test_set = subset(dataset, split == FALSE)"
   ]
  },
  {
   "cell_type": "markdown",
   "metadata": {},
   "source": [
    "> [Note] <br>\n",
    "> 1. 使用 `caTools` 套件 <br>\n",
    "> 2. `sample.split(` <font color='red'> Y </font>`, SplitRatio = 0.8)` 依照 Y 去做切分， SplitRatio 放的是 train data 的比例"
   ]
  },
  {
   "cell_type": "markdown",
   "metadata": {},
   "source": [
    "# Feature Scaling"
   ]
  },
  {
   "cell_type": "markdown",
   "metadata": {},
   "source": [
    "<img src='course_2.png', width=50%>"
   ]
  },
  {
   "cell_type": "markdown",
   "metadata": {},
   "source": [
    "> [Note] <br>\n",
    "> 1. 大多數的 machine learning 方法都是基於歐幾里德距離，若變數間 Scale 不同的話就會造成很大的影響；<br>\n",
    "> e.g. Salary_A:$79000$，Salary_B:$48000$；Salary_distance:$(79000-48000)^2=961000000$ <br>\n",
    "> e.g. Age_A:$48$，Age_B:$27$；Age_distance:$(48-27)^2=441$<br>"
   ]
  },
  {
   "cell_type": "markdown",
   "metadata": {},
   "source": [
    "|<h4>Standardisation</h4>|<h4>Normalisation</h4>|\n",
    "|---|---|\n",
    "|$X_{Std} = \\frac{X - mean(X)}{std(X)}$|$X_{norm} = \\frac{X - min(X)}{max(X) - min(X)}$|"
   ]
  },
  {
   "cell_type": "code",
   "execution_count": 12,
   "metadata": {
    "collapsed": true
   },
   "outputs": [],
   "source": [
    "training_set[,2:3] = scale(training_set[,2:3])\n",
    "test_set[,2:3] = scale(test_set[,2:3])"
   ]
  },
  {
   "cell_type": "code",
   "execution_count": 13,
   "metadata": {},
   "outputs": [
    {
     "data": {
      "text/html": [
       "<table>\n",
       "<thead><tr><th></th><th scope=col>Country</th><th scope=col>Age</th><th scope=col>Salary</th><th scope=col>Purchased</th></tr></thead>\n",
       "<tbody>\n",
       "\t<tr><th scope=row>1</th><td>1          </td><td> 0.90101716</td><td> 0.9392746 </td><td>0          </td></tr>\n",
       "\t<tr><th scope=row>2</th><td>2          </td><td>-1.58847494</td><td>-1.3371160 </td><td>1          </td></tr>\n",
       "\t<tr><th scope=row>3</th><td>3          </td><td>-1.14915281</td><td>-0.7680183 </td><td>0          </td></tr>\n",
       "\t<tr><th scope=row>4</th><td>2          </td><td> 0.02237289</td><td>-0.1040711 </td><td>0          </td></tr>\n",
       "\t<tr><th scope=row>5</th><td>3          </td><td> 0.31525431</td><td> 0.1594000 </td><td>1          </td></tr>\n",
       "\t<tr><th scope=row>7</th><td>2          </td><td> 0.13627122</td><td>-0.9577176 </td><td>0          </td></tr>\n",
       "</tbody>\n",
       "</table>\n"
      ],
      "text/latex": [
       "\\begin{tabular}{r|llll}\n",
       "  & Country & Age & Salary & Purchased\\\\\n",
       "\\hline\n",
       "\t1 & 1           &  0.90101716 &  0.9392746  & 0          \\\\\n",
       "\t2 & 2           & -1.58847494 & -1.3371160  & 1          \\\\\n",
       "\t3 & 3           & -1.14915281 & -0.7680183  & 0          \\\\\n",
       "\t4 & 2           &  0.02237289 & -0.1040711  & 0          \\\\\n",
       "\t5 & 3           &  0.31525431 &  0.1594000  & 1          \\\\\n",
       "\t7 & 2           &  0.13627122 & -0.9577176  & 0          \\\\\n",
       "\\end{tabular}\n"
      ],
      "text/markdown": [
       "\n",
       "| <!--/--> | Country | Age | Salary | Purchased | \n",
       "|---|---|---|---|---|---|\n",
       "| 1 | 1           |  0.90101716 |  0.9392746  | 0           | \n",
       "| 2 | 2           | -1.58847494 | -1.3371160  | 1           | \n",
       "| 3 | 3           | -1.14915281 | -0.7680183  | 0           | \n",
       "| 4 | 2           |  0.02237289 | -0.1040711  | 0           | \n",
       "| 5 | 3           |  0.31525431 |  0.1594000  | 1           | \n",
       "| 7 | 2           |  0.13627122 | -0.9577176  | 0           | \n",
       "\n",
       "\n"
      ],
      "text/plain": [
       "  Country Age         Salary     Purchased\n",
       "1 1        0.90101716  0.9392746 0        \n",
       "2 2       -1.58847494 -1.3371160 1        \n",
       "3 3       -1.14915281 -0.7680183 0        \n",
       "4 2        0.02237289 -0.1040711 0        \n",
       "5 3        0.31525431  0.1594000 1        \n",
       "7 2        0.13627122 -0.9577176 0        "
      ]
     },
     "metadata": {},
     "output_type": "display_data"
    }
   ],
   "source": [
    "head(training_set)"
   ]
  },
  {
   "cell_type": "markdown",
   "metadata": {},
   "source": [
    "> [Note] <br>\n",
    "> 1. 已經轉化成 One-Hot Encoding 的變數需要做 Scaling 嗎？ <br>\n",
    ">   (1) 可以做 Scaling ，這樣可以讓 Model 配適的更好，因為大家的 Scale 相同 <br>\n",
    ">   (2) 不做 Scaling ，因為這樣可以保留原本變數中想表達的意義，且才可以解釋 <br>\n",
    "> 2. Dependent Variable 需要做 Scaling 嗎？這裡因為 Dependent Variable 是類別所以不需做， Model會已經知道他是類別的 <br>\n",
    "> 3. 不是基於歐幾里德距離的 Model 有需要做 Scaling 嗎？\n",
    "> e.g. Decision Trees 若做了 Scaling 則可以讓他收斂的更快\n",
    "> 4. Factor 不是 numeric 就無法使用 `scale`"
   ]
  },
  {
   "cell_type": "markdown",
   "metadata": {},
   "source": [
    "# How to Set Up Working Directory"
   ]
  },
  {
   "cell_type": "markdown",
   "metadata": {},
   "source": [
    "To set a working directory in RStudio: \n",
    "1. use \"Files\" tab for lower right pane (window) in RStudion interface to navigate to your chosen directory, then go to Session -> Set Working Directory -> To Files Pane Location. \n",
    "2. You can use Choose Directory... option in Session -> Set Working Directory as well.\n",
    "3. a little gear icon for right lower pane. \n",
    "4. Online commands: `getwd()` to see what is your working directory and `setwd()` to change it:"
   ]
  },
  {
   "cell_type": "code",
   "execution_count": 14,
   "metadata": {
    "scrolled": true
   },
   "outputs": [
    {
     "data": {
      "text/html": [
       "'/Users/sun/Desktop/Data_Preprocessing'"
      ],
      "text/latex": [
       "'/Users/sun/Desktop/Data\\_Preprocessing'"
      ],
      "text/markdown": [
       "'/Users/sun/Desktop/Data_Preprocessing'"
      ],
      "text/plain": [
       "[1] \"/Users/sun/Desktop/Data_Preprocessing\""
      ]
     },
     "metadata": {},
     "output_type": "display_data"
    }
   ],
   "source": [
    "getwd()"
   ]
  }
 ],
 "metadata": {
  "kernelspec": {
   "display_name": "R",
   "language": "R",
   "name": "ir"
  },
  "language_info": {
   "codemirror_mode": "r",
   "file_extension": ".r",
   "mimetype": "text/x-r-source",
   "name": "R",
   "pygments_lexer": "r",
   "version": "3.4.1"
  }
 },
 "nbformat": 4,
 "nbformat_minor": 2
}
